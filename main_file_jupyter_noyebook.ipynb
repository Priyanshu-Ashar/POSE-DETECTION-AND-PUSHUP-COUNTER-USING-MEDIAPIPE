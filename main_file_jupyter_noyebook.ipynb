{
 "cells": [
  {
   "cell_type": "markdown",
   "id": "ec83b367",
   "metadata": {},
   "source": [
    "# Pose Detection Model Using MediaPipe:"
   ]
  },
  {
   "cell_type": "markdown",
   "id": "f7c120bb",
   "metadata": {},
   "source": [
    "## 1. Importing Dependencies:"
   ]
  },
  {
   "cell_type": "code",
   "execution_count": 1,
   "id": "07cbba88",
   "metadata": {},
   "outputs": [],
   "source": [
    "import numpy as np\n",
    "import mediapipe as mp\n",
    "import cv2\n",
    "mp_drawing = mp.solutions.drawing_utils # For Visualizatons of poses...\n",
    "mp_pose = mp.solutions.pose"
   ]
  },
  {
   "cell_type": "markdown",
   "id": "3c238eaf",
   "metadata": {},
   "source": [
    "## 2. Video Feed:"
   ]
  },
  {
   "cell_type": "code",
   "execution_count": 2,
   "id": "aa03ed5f",
   "metadata": {},
   "outputs": [],
   "source": [
    "# THIS IS JUST FOR OPENING OUR WEB CAM AND BREAK LOOP ON PRESSING 'q'...\n",
    "# cap = cv2.VideoCapture(0)\n",
    "# while cap.isOpened():\n",
    "#     ret, frame = cap.read()\n",
    "#     cv2.imshow(\"MEDIAPIPE FEED\", frame)\n",
    "    \n",
    "#     if cv2.waitKey(10) & 0xFF == ord('q'):    #For Breaking out of our feed...\n",
    "#         break\n",
    "# cap.release()\n",
    "# cv2.destroyAllWindows()"
   ]
  },
  {
   "cell_type": "markdown",
   "id": "723efc30",
   "metadata": {},
   "source": [
    "## 3. Setting MediaPipe Instance:"
   ]
  },
  {
   "cell_type": "code",
   "execution_count": 12,
   "id": "f5b32fa1",
   "metadata": {},
   "outputs": [
    {
     "name": "stdout",
     "output_type": "stream",
     "text": [
      "1\n",
      "2\n",
      "3\n",
      "4\n",
      "5\n",
      "6\n",
      "7\n",
      "8\n",
      "9\n",
      "10\n",
      "11\n",
      "12\n",
      "13\n",
      "14\n"
     ]
    }
   ],
   "source": [
    "def calculate_angle(a,b,c):\n",
    "    a = np.array(a) #FIRST:\n",
    "    b = np.array(b) #MID:\n",
    "    c = np.array(c) #END:\n",
    "    \n",
    "    radian = np.arctan2(c[1]-b[1], c[0]-b[0]) - np.arctan2(a[1]-b[1], a[0]-b[0])\n",
    "    angle = np.abs(radian*180.0/np.pi) \n",
    "    \n",
    "    if angle>180.0:\n",
    "        angle = 360-angle\n",
    "    return angle\n",
    "\n",
    "cap = cv2.VideoCapture(0)\n",
    "\n",
    "# CURL COUNTER FOR BOTH HANDS:-\n",
    "counter = 0\n",
    "stage = None\n",
    "\n",
    "with mp_pose.Pose(min_detection_confidence = 0.5, min_tracking_confidence = 0.5) as pose:\n",
    "    # If you want more accurate model detection and tracking, bump this metrix up...\n",
    "    while cap.isOpened():\n",
    "        ret, frame = cap.read()\n",
    "        \n",
    "        #RECOLORING THE IMAGE TO RGB:\n",
    "        image = cv2.cvtColor(frame, cv2.COLOR_BGR2RGB)\n",
    "        image.flags.writeable = False\n",
    "        \n",
    "        # Making Detection:\n",
    "        results = pose.process(image)\n",
    "        \n",
    "        # RECOLORING BACK TO BGR:\n",
    "        image.flags.writeable = True\n",
    "        image = cv2.cvtColor(frame, cv2.COLOR_RGB2BGR)\n",
    "        #print(results)\n",
    "        \n",
    "        # Extracting Landmarks:\n",
    "        try:\n",
    "            landmarks = results.pose_landmarks.landmark\n",
    "            \n",
    "            # Getting co-ordinated:\n",
    "            shoulder_left = [landmarks[mp_pose.PoseLandmark.LEFT_SHOULDER.value].x , landmarks[mp_pose.PoseLandmark.LEFT_SHOULDER.value].y]\n",
    "            elbow_left = [landmarks[mp_pose.PoseLandmark.LEFT_ELBOW.value].x , landmarks[mp_pose.PoseLandmark.LEFT_ELBOW.value].y]\n",
    "            wrist_left = [landmarks[mp_pose.PoseLandmark.LEFT_WRIST.value].x , landmarks[mp_pose.PoseLandmark.LEFT_WRIST.value].y]\n",
    "            \n",
    "            shoulder_right = [landmarks[mp_pose.PoseLandmark.RIGHT_SHOULDER.value].x , landmarks[mp_pose.PoseLandmark.RIGHT_SHOULDER.value].y]\n",
    "            elbow_right = [landmarks[mp_pose.PoseLandmark.RIGHT_ELBOW.value].x , landmarks[mp_pose.PoseLandmark.RIGHT_ELBOW.value].y]\n",
    "            wrist_right = [landmarks[mp_pose.PoseLandmark.RIGHT_WRIST.value].x , landmarks[mp_pose.PoseLandmark.RIGHT_WRIST.value].y]\n",
    "            \n",
    "            #Calculating Angles:\n",
    "            angle_left = calculate_angle(shoulder_left, elbow_left, wrist_left)\n",
    "            angle_right = calculate_angle(shoulder_right, elbow_right, wrist_right)\n",
    "            \n",
    "            #Visualize:\n",
    "            cv2.putText(image, str(angle_left), \n",
    "                       tuple(np.multiply(elbow_left, [640,480]).astype(int)),\n",
    "                        cv2.FONT_HERSHEY_SIMPLEX, 0.5, (255,255,255),2, cv2.LINE_AA)\n",
    "                                         \n",
    "            cv2.putText(image, str(angle_right), \n",
    "                       tuple(np.multiply(elbow_right, [640,480]).astype(int)),\n",
    "                        cv2.FONT_HERSHEY_SIMPLEX, 0.5, (255,255,255),2, cv2.LINE_AA)\n",
    "\n",
    "            \n",
    "            # CURL COUNTER LOGIC:-\n",
    "            if angle_left > 130 and angle_right > 130:\n",
    "                stage = \"DOWN\"\n",
    "            if angle_left < 45 and angle_right < 45 and stage == \"DOWN\":\n",
    "                stage = \"UP\"\n",
    "                counter += 1\n",
    "                print(counter)\n",
    "            \n",
    "                                       \n",
    "        except:\n",
    "            pass\n",
    "        \n",
    "        # CURL COUNTER VISUALIZATION:-\n",
    "        cv2.rectangle(image, (0,0), (225,73), (245, 117,16), -1)\n",
    "        \n",
    "        #REP COUNTER DATA:-\n",
    "        cv2.putText(image, 'REPS', (10,12),cv2.FONT_HERSHEY_SIMPLEX,0.5,(0,0,0), 1, cv2.LINE_AA)\n",
    "        cv2.putText(image, str(counter), (5,60),cv2.FONT_HERSHEY_SIMPLEX,1.5,(255,255,255), 1, cv2.LINE_AA)\n",
    "        \n",
    "        #STAGE DATA VISUALIZATION:-\n",
    "        cv2.putText(image, 'STAGE', (65,12),cv2.FONT_HERSHEY_SIMPLEX,0.5,(0,0,0), 1, cv2.LINE_AA)\n",
    "        cv2.putText(image, stage, (70,60),cv2.FONT_HERSHEY_SIMPLEX,1.5,(255,255,255), 1, cv2.LINE_AA)\n",
    "        \n",
    "        \n",
    "        if counter > 1:\n",
    "                cv2.putText(image, \"PUSHUPS\", (255, 25), cv2.FONT_HERSHEY_SIMPLEX, 1, (0,0,0),2,cv2.LINE_AA)\n",
    "\n",
    "        \n",
    "        \n",
    "\n",
    "        \n",
    "        #RENDERING DETECTION:\n",
    "        mp_drawing.draw_landmarks(image, results.pose_landmarks, mp_pose.POSE_CONNECTIONS,\n",
    "                                 mp_drawing.DrawingSpec(color = (245,117,66), thickness = 2, circle_radius = 2),\n",
    "                                 mp_drawing.DrawingSpec(color = (245,66,230), thickness = 2, circle_radius = 2))\n",
    "                     \n",
    "        cv2.imshow(\"MEDIAPIPE FEED\", image)\n",
    "\n",
    "        if cv2.waitKey(10) & 0xFF == ord('q'):    #For Breaking out of our feed...\n",
    "            break\n",
    "    cap.release()\n",
    "    cv2.destroyAllWindows()"
   ]
  },
  {
   "cell_type": "code",
   "execution_count": 4,
   "id": "f2133093",
   "metadata": {
    "scrolled": true
   },
   "outputs": [
    {
     "data": {
      "text/plain": [
       "x: 0.8036957\n",
       "y: 0.7665068\n",
       "z: -0.5760834\n",
       "visibility: 0.99905044"
      ]
     },
     "execution_count": 4,
     "metadata": {},
     "output_type": "execute_result"
    }
   ],
   "source": [
    "landmarks[mp_pose.PoseLandmark.LEFT_SHOULDER.value]"
   ]
  },
  {
   "cell_type": "code",
   "execution_count": 5,
   "id": "02654d1f",
   "metadata": {},
   "outputs": [
    {
     "data": {
      "text/plain": [
       "x: 0.9242073\n",
       "y: 1.2141864\n",
       "z: -0.6505349\n",
       "visibility: 0.1917968"
      ]
     },
     "execution_count": 5,
     "metadata": {},
     "output_type": "execute_result"
    }
   ],
   "source": [
    "landmarks[mp_pose.PoseLandmark.LEFT_ELBOW.value]"
   ]
  },
  {
   "cell_type": "code",
   "execution_count": 6,
   "id": "4b1a8664",
   "metadata": {},
   "outputs": [
    {
     "data": {
      "text/plain": [
       "x: 0.91709787\n",
       "y: 1.5729125\n",
       "z: -1.0803647\n",
       "visibility: 0.09002846"
      ]
     },
     "execution_count": 6,
     "metadata": {},
     "output_type": "execute_result"
    }
   ],
   "source": [
    "landmarks[mp_pose.PoseLandmark.LEFT_WRIST.value]"
   ]
  },
  {
   "cell_type": "markdown",
   "id": "81b99881",
   "metadata": {},
   "source": [
    "## 4. Calculating Angles:"
   ]
  },
  {
   "cell_type": "code",
   "execution_count": 7,
   "id": "3e54d1f0",
   "metadata": {},
   "outputs": [],
   "source": [
    "# def calculate_angle(a,b,c):\n",
    "#     a = np.array(a) #FIRST:\n",
    "#     b = np.array(b) #MID:\n",
    "#     c = np.array(c) #END:\n",
    "    \n",
    "#     radian = np.arctan2(c[1]-b[1], c[0]-b[0]) - np.arctan2(a[1]-b[1], a[0]-b[0])\n",
    "#     angle = np.abs(radian*180.0/np.pi) \n",
    "    \n",
    "#     if angle>180.0:\n",
    "#         angle = 360-angle\n",
    "#     return angle\n"
   ]
  },
  {
   "cell_type": "markdown",
   "id": "1ccd2698",
   "metadata": {},
   "source": [
    "## Co-ordinates of Shoulder, Elbow And Wrist:"
   ]
  },
  {
   "cell_type": "code",
   "execution_count": 8,
   "id": "eca13e50",
   "metadata": {},
   "outputs": [],
   "source": [
    "# shoulder = [landmarks[mp_pose.PoseLandmark.LEFT_SHOULDER.value].x , landmarks[mp_pose.PoseLandmark.LEFT_SHOULDER.value].y]\n",
    "# elbow = [landmarks[mp_pose.PoseLandmark.LEFT_ELBOW.value].x , landmarks[mp_pose.PoseLandmark.LEFT_ELBOW.value].y]\n",
    "# wrist = [landmarks[mp_pose.PoseLandmark.LEFT_WRIST.value].x , landmarks[mp_pose.PoseLandmark.LEFT_WRIST.value].y]"
   ]
  },
  {
   "cell_type": "markdown",
   "id": "53f7c1c7",
   "metadata": {},
   "source": [
    "## Passing Values to Calculate_angle():"
   ]
  },
  {
   "cell_type": "code",
   "execution_count": 9,
   "id": "f8ec16ec",
   "metadata": {},
   "outputs": [],
   "source": [
    "# calculate_angle(shoulder, elbow, wrist)"
   ]
  },
  {
   "cell_type": "code",
   "execution_count": 10,
   "id": "30887f22",
   "metadata": {},
   "outputs": [],
   "source": [
    "# calculate_angle(shoulder, elbow, wrist)"
   ]
  },
  {
   "cell_type": "code",
   "execution_count": 11,
   "id": "16f8ce7a",
   "metadata": {},
   "outputs": [],
   "source": [
    "# landmarks[mp_pose.PoseLandmark._SHOULDER.value]"
   ]
  },
  {
   "cell_type": "code",
   "execution_count": null,
   "id": "f48158e4",
   "metadata": {},
   "outputs": [],
   "source": []
  }
 ],
 "metadata": {
  "kernelspec": {
   "display_name": "Python 3 (ipykernel)",
   "language": "python",
   "name": "python3"
  },
  "language_info": {
   "codemirror_mode": {
    "name": "ipython",
    "version": 3
   },
   "file_extension": ".py",
   "mimetype": "text/x-python",
   "name": "python",
   "nbconvert_exporter": "python",
   "pygments_lexer": "ipython3",
   "version": "3.11.0"
  }
 },
 "nbformat": 4,
 "nbformat_minor": 5
}
